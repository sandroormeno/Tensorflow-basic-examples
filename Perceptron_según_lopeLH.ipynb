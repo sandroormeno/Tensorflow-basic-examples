{
  "nbformat": 4,
  "nbformat_minor": 0,
  "metadata": {
    "colab": {
      "name": "Perceptron según lopeLH.ipynb",
      "version": "0.3.2",
      "provenance": [],
      "collapsed_sections": [],
      "include_colab_link": true
    },
    "kernelspec": {
      "name": "python3",
      "display_name": "Python 3"
    }
  },
  "cells": [
    {
      "cell_type": "markdown",
      "metadata": {
        "id": "view-in-github",
        "colab_type": "text"
      },
      "source": [
        "[View in Colaboratory](https://colab.research.google.com/github/sandroormeno/Tensorflow-basic-examples/blob/master/Perceptron_seg%C3%BAn_lopeLH.ipynb)"
      ]
    },
    {
      "metadata": {
        "id": "pbrbaDuOjcMX",
        "colab_type": "code",
        "colab": {}
      },
      "cell_type": "code",
      "source": [
        "%matplotlib  inline\n",
        "\n",
        "import tensorflow as tf\n",
        "import matplotlib.pyplot as plt\n",
        "import numpy as np\n",
        "from random import randint"
      ],
      "execution_count": 0,
      "outputs": []
    },
    {
      "metadata": {
        "id": "3oVrb_h-kFwj",
        "colab_type": "code",
        "colab": {
          "base_uri": "https://localhost:8080/",
          "height": 85
        },
        "outputId": "aa386e05-7b62-4457-f855-0e6bb8b68926"
      },
      "cell_type": "code",
      "source": [
        "#cargando lo datos\n",
        "from tensorflow.examples.tutorials.mnist import input_data\n",
        "mnist = input_data.read_data_sets(\"MNIST_data/\", one_hot=True)\n",
        "# one_hot = True hace que la salida de las etiquetas no sea un número\n",
        "# sino un vector. x ejemplo para el 5 = [0,0,0,0,0,1,0,0,0,0] "
      ],
      "execution_count": 5,
      "outputs": [
        {
          "output_type": "stream",
          "text": [
            "Extracting MNIST_data/train-images-idx3-ubyte.gz\n",
            "Extracting MNIST_data/train-labels-idx1-ubyte.gz\n",
            "Extracting MNIST_data/t10k-images-idx3-ubyte.gz\n",
            "Extracting MNIST_data/t10k-labels-idx1-ubyte.gz\n"
          ],
          "name": "stdout"
        }
      ]
    },
    {
      "metadata": {
        "id": "vj6xG7gQlfs_",
        "colab_type": "code",
        "colab": {
          "base_uri": "https://localhost:8080/",
          "height": 282
        },
        "outputId": "f6482eea-4197-40e4-a476-b617bea34cac"
      },
      "cell_type": "code",
      "source": [
        "#para ver una imagen => mnist.train.images[5] (la imagen 5)\n",
        "#la imagen es un vector de 784 datos de los pixeles\n",
        "#para poder verlas hay que reordenarlas en 28 x 28 => reshape((28,28)\n",
        "#para verlo en escla de grises => cmap=\"gray\"\n",
        "plt.imshow(mnist.train.images[5].reshape((28,28)), cmap=\"gray\")\n",
        "plt.axis('off')\n"
      ],
      "execution_count": 11,
      "outputs": [
        {
          "output_type": "execute_result",
          "data": {
            "text/plain": [
              "(-0.5, 27.5, 27.5, -0.5)"
            ]
          },
          "metadata": {
            "tags": []
          },
          "execution_count": 11
        },
        {
          "output_type": "display_data",
          "data": {
            "image/png": "[encoded data removed]",
            "text/plain": [
              "<matplotlib.figure.Figure at 0x7f2154fbf240>"
            ]
          },
          "metadata": {
            "tags": []
          }
        }
      ]
    },
    {
      "metadata": {
        "id": "WrrDI3ZDnXbb",
        "colab_type": "code",
        "colab": {
          "base_uri": "https://localhost:8080/",
          "height": 246
        },
        "outputId": "d36d531a-2f86-4be8-f7c7-a59cd59384b9"
      },
      "cell_type": "code",
      "source": [
        "# otra forma de ver imágenes\n",
        "import pylab as pylab\n",
        "pylab.rcParams['figure.figsize'] = (8.0, 4.0)\n",
        "\n",
        "f, axes = plt.subplots(2, 5)# plt.axis('off')\n",
        "\n",
        "for i in range(10):\n",
        "    axes.ravel()[i].imshow(mnist.train.images[randint(0,1000)].reshape((28,28)), cmap=\"gray\")\n",
        "   \n"
      ],
      "execution_count": 21,
      "outputs": [
        {
          "output_type": "display_data",
          "data": {
            "image/png": "[encoded data removed]",
            "text/plain": [
              "<matplotlib.figure.Figure at 0x7f2154508208>"
            ]
          },
          "metadata": {
            "tags": []
          }
        }
      ]
    },
    {
      "metadata": {
        "id": "G6FD1GEWwaou",
        "colab_type": "text"
      },
      "cell_type": "markdown",
      "source": [
        "![texto alternativo](https://raw.githubusercontent.com/sandroormeno/Tensorflow-basic-examples/master/Captura.JPG)"
      ]
    },
    {
      "metadata": {
        "id": "CDeqKSNSpeDf",
        "colab_type": "code",
        "colab": {
          "base_uri": "https://localhost:8080/",
          "height": 289
        },
        "outputId": "cb9c9c1a-0308-4d10-85ca-fabd1c1de7fd"
      },
      "cell_type": "code",
      "source": [
        "x = tf.placeholder(tf.float32,[None, 784])\n",
        "#placeholder es un tipo de variable en tensor flow que no necesita ser entrenada\n",
        "#datos de entrada de la red neuronal\n",
        "#son las imágenes de 28 x 28 en una matriz de 784 datos (pixeles)\n",
        "#None => es un número de filas (indefinida) para poner la cantidad que necesitemos \n",
        "#de esa manera nuestro sistema es más flexible\n",
        "#float32 se usa para los números reales\n",
        "y_ = tf.placeholder(tf.float32, [None, 10])\n",
        "#la salida ideales de la red neuronal\n",
        "# son 10 porque son diez posibles números 0 a 9\n",
        "#para cada imegen su clasificación correcta\n",
        "W = tf.Variable(tf.zeros([784, 10]))\n",
        "#representa un Variable (de ceros) para la matriz de los Pesos sinápticos  \n",
        "#784 columas para los datos de los pixeles \n",
        "# 10 filas para las categorias (0-9)\n",
        "B = tf.Variable(tf.zeros([10]))\n",
        "#representa la matriz (de ceros) de bias\n",
        "y = tf.nn.tanh(tf.matmul(x, W) + B)\n",
        "#la salida\n",
        "# tanh => tangente hiperbólica\n",
        "# multipocación de x por W , más B\n",
        "# matmul es una funsión de TF para  multiplicación\n",
        "\n",
        "#entrenar:\n",
        "\n",
        "mse_loss = tf.reduce_mean(tf.square(y_-y))\n",
        "#mean square error o error cuadrático medio\n",
        "#un estimador mide el promedio de los errores al cuadrado\n",
        "#los errores so iguales a las salidas ideales (y_) menos las salidas(y)\n",
        "#square lo eleva al cuadrado, para que los valores siempre sean positivos\n",
        "#reduce_mean hace el promedio\n",
        "train_step = tf.train.GradientDescentOptimizer(0.01).minimize(mse_loss)\n",
        "# para entrenar lo ponemos en una variable\n",
        "# e usados GradientDescent como optimizador\n",
        "# el valor requerido es muy pequeño = 0,01\n",
        "# y el valor que queremos minimizar (minimize) es \"mse_loss\"\n",
        "\n",
        "#versiones anteriores\n",
        "\n",
        "#inicializar las variables\n",
        "init=tf.global_variables_initializer()\n",
        "#creo una sesción \n",
        "sess = tf.Session()\n",
        "# la sesción inicia las variables\n",
        "sess.run(init)\n",
        "\n",
        "#array que cuadan los valores que están aprendiendo\n",
        "testPerformance = []\n",
        "trainPerformance = []\n",
        "\n",
        "# vamos hacer 150 repeticones de entrenamiento (epocas)\n",
        "for i in range(150):\n",
        "    #Stochastic gradient descent\n",
        "    #vamos a elegir una muestra (1000) para nuestro entrenamiento\n",
        "    #batch_xs y batch_ys son las variables de muestas\n",
        "    #next_batch(1000) indica que en cada oteración tomará 1000 muestras\n",
        "    #mnist tiene 60000 muestas de entrenamiento\n",
        "    # 10000 muestras para test\n",
        "    batch_xs, batch_ys = mnist.train.next_batch(1000)\n",
        "    # una sesción de entrenamiento\n",
        "    # que te pude la variable que contiene el entrenamiento = train_step\n",
        "    # y luego un diccionario con los datos de entrenamiento y sus etiquetas\n",
        "    # x:batch_xs, y_:batch_ys\n",
        "    sess.run(train_step, feed_dict={x: batch_xs, y_: batch_ys})\n",
        "    \n",
        "    \n",
        "    #le pongo los valores para:\n",
        "    # testPerformance\n",
        "    # trainPerformance\n",
        "    trainPerformance.append(sess.run(mse_loss,feed_dict={x: batch_xs, y_: batch_ys}))\n",
        "    testPerformance.append(sess.run(mse_loss,feed_dict={x: mnist.test.images, y_: mnist.test.labels}))\n",
        "    if (i%10==0):\n",
        "           print(\"Entrenando epoca :\" + str(i))\n",
        "\n",
        "# esto es para saber cuando termina\n",
        "print (\"Entrenamiento completo\")"
      ],
      "execution_count": 44,
      "outputs": [
        {
          "output_type": "stream",
          "text": [
            "Entrenando epoca :0\n",
            "Entrenando epoca :10\n",
            "Entrenando epoca :20\n",
            "Entrenando epoca :30\n",
            "Entrenando epoca :40\n",
            "Entrenando epoca :50\n",
            "Entrenando epoca :60\n",
            "Entrenando epoca :70\n",
            "Entrenando epoca :80\n",
            "Entrenando epoca :90\n",
            "Entrenando epoca :100\n",
            "Entrenando epoca :110\n",
            "Entrenando epoca :120\n",
            "Entrenando epoca :130\n",
            "Entrenando epoca :140\n",
            "Entrenamiento completo\n"
          ],
          "name": "stdout"
        }
      ]
    },
    {
      "metadata": {
        "id": "qDII_7xyoD1p",
        "colab_type": "code",
        "colab": {
          "base_uri": "https://localhost:8080/",
          "height": 269
        },
        "outputId": "8f69d60f-681a-4a3d-f752-d466676f0695"
      },
      "cell_type": "code",
      "source": [
        "plt.plot(trainPerformance, \"b\")\n",
        "plt.plot(testPerformance, \"r\")\n",
        "plt.show()"
      ],
      "execution_count": 45,
      "outputs": [
        {
          "output_type": "display_data",
          "data": {
            "image/png": "[encoded data removed]",
            "text/plain": [
              "<matplotlib.figure.Figure at 0x7f21549accf8>"
            ]
          },
          "metadata": {
            "tags": []
          }
        }
      ]
    },
    {
      "metadata": {
        "id": "RgauNivZOlm2",
        "colab_type": "code",
        "colab": {
          "base_uri": "https://localhost:8080/",
          "height": 333
        },
        "outputId": "e043eb5d-5e6d-4061-e5ff-e618810acdd5"
      },
      "cell_type": "code",
      "source": [
        "imagen = 6\n",
        "prediccion = sess.run(y,feed_dict={x: mnist.test.images[imagen].reshape(1,784)})\n",
        "print(prediccion)\n",
        "print(\"La imagen es: {:}\".format (np.argmax(prediccion)))\n",
        "plt.imshow(mnist.train.images[imagen].reshape((28,28)), cmap=\"gray\")\n",
        "plt.axis('off')"
      ],
      "execution_count": 64,
      "outputs": [
        {
          "output_type": "stream",
          "text": [
            "[[-0.04356179 -0.02465912 -0.00423935  0.1035325   0.2074405   0.08722685\n",
            "   0.00534271  0.16058692  0.1051773   0.15238014]]\n",
            "La imagen es: 4\n"
          ],
          "name": "stdout"
        },
        {
          "output_type": "execute_result",
          "data": {
            "text/plain": [
              "(-0.5, 27.5, 27.5, -0.5)"
            ]
          },
          "metadata": {
            "tags": []
          },
          "execution_count": 64
        },
        {
          "output_type": "display_data",
          "data": {
            "image/png": "[encoded data removed]",
            "text/plain": [
              "<matplotlib.figure.Figure at 0x7f2154c734e0>"
            ]
          },
          "metadata": {
            "tags": []
          }
        }
      ]
    },
    {
      "metadata": {
        "id": "6JG71DYoVM2H",
        "colab_type": "code",
        "colab": {
          "base_uri": "https://localhost:8080/",
          "height": 34
        },
        "outputId": "3b34b8bd-7dbd-4244-d193-f357e2cc29bb"
      },
      "cell_type": "code",
      "source": [
        "prediccionTODO = sess.run(y,feed_dict={x: mnist.test.images, y_: mnist.test.labels})\n",
        "errores = 0.\n",
        "\n",
        "for i in range(prediccionTODO.shape[0]):\n",
        "    if np.argmax(prediccionTODO[i]) != np.argmax(mnist.test.labels[i]):\n",
        "       errores = errores+1\n",
        "salida = errores/prediccionTODO.shape[0]*100        \n",
        "print (\"Errores de datos de prueba: {:<0.3} %\".format(salida))\n",
        "    "
      ],
      "execution_count": 57,
      "outputs": [
        {
          "output_type": "stream",
          "text": [
            "Errores de datos de prueba: 20.5 %\n"
          ],
          "name": "stdout"
        }
      ]
    }
  ]
}