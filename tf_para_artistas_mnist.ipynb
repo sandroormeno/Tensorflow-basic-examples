{
  "nbformat": 4,
  "nbformat_minor": 0,
  "metadata": {
    "colab": {
      "name": "tf_para_artistas_mnist.ipynb",
      "version": "0.3.2",
      "provenance": [],
      "collapsed_sections": [],
      "include_colab_link": true
    },
    "kernelspec": {
      "name": "python3",
      "display_name": "Python 3"
    },
    "accelerator": "GPU"
  },
  "cells": [
    {
      "cell_type": "markdown",
      "metadata": {
        "id": "view-in-github",
        "colab_type": "text"
      },
      "source": [
        "[View in Colaboratory](https://colab.research.google.com/github/sandroormeno/Tensorflow-basic-examples/blob/master/tf_para_artistas_mnist.ipynb)"
      ]
    },
    {
      "metadata": {
        "id": "DFFLEejyVAZt",
        "colab_type": "code",
        "colab": {}
      },
      "cell_type": "code",
      "source": [
        "%matplotlib inline\n",
        "\n",
        "import tensorflow as tf\n",
        "import matplotlib.pyplot as plt\n",
        "\n",
        "\n",
        "from tensorflow.examples.tutorials.mnist import input_data"
      ],
      "execution_count": 0,
      "outputs": []
    },
    {
      "metadata": {
        "id": "Do3yZcLkVtId",
        "colab_type": "code",
        "colab": {
          "base_uri": "https://localhost:8080/",
          "height": 34
        },
        "outputId": "8f034f72-be5f-47b5-b179-3ffeee015abc"
      },
      "cell_type": "code",
      "source": [
        "#Comprobamos si podemos utilizar la gpu para procesar\n",
        "import tensorflow as tf\n",
        "nombre_device = tf.test.gpu_device_name()\n",
        "if nombre_device != \"/device:GPU:0\":\n",
        "  raise SystemError(\"GPU no encontrado\")\n",
        "print(\"GPU encontrado en: {}\".format(nombre_device))"
      ],
      "execution_count": 73,
      "outputs": [
        {
          "output_type": "stream",
          "text": [
            "GPU encontrado en: /device:GPU:0\n"
          ],
          "name": "stdout"
        }
      ]
    },
    {
      "metadata": {
        "id": "nYTlGxaGWiDt",
        "colab_type": "code",
        "colab": {
          "base_uri": "https://localhost:8080/",
          "height": 85
        },
        "outputId": "bb50633a-3f18-41cf-e1ad-39d558610974"
      },
      "cell_type": "code",
      "source": [
        "mnist = input_data.read_data_sets(\"MNIST_data/\", one_hot=True)"
      ],
      "execution_count": 74,
      "outputs": [
        {
          "output_type": "stream",
          "text": [
            "Extracting MNIST_data/train-images-idx3-ubyte.gz\n",
            "Extracting MNIST_data/train-labels-idx1-ubyte.gz\n",
            "Extracting MNIST_data/t10k-images-idx3-ubyte.gz\n",
            "Extracting MNIST_data/t10k-labels-idx1-ubyte.gz\n"
          ],
          "name": "stdout"
        }
      ]
    },
    {
      "metadata": {
        "id": "prR_vmw5W2L0",
        "colab_type": "code",
        "colab": {
          "base_uri": "https://localhost:8080/",
          "height": 265
        },
        "outputId": "995647d6-f137-4940-ab42-16f2385b88b5"
      },
      "cell_type": "code",
      "source": [
        "#función  para ver una imagen\n",
        "def ver_imagen(i):\n",
        "    plt.imshow(mnist.test.images[i].reshape((28,28)), cmap=\"gray\")\n",
        "    plt.axis('off')\n",
        "ver_imagen(528)"
      ],
      "execution_count": 84,
      "outputs": [
        {
          "output_type": "display_data",
          "data": {
            "image/png": "[encoded data removed]",
            "text/plain": [
              "<matplotlib.figure.Figure at 0x7fd55341bba8>"
            ]
          },
          "metadata": {
            "tags": []
          }
        }
      ]
    },
    {
      "metadata": {
        "id": "DH46aOLNX3nD",
        "colab_type": "code",
        "colab": {}
      },
      "cell_type": "code",
      "source": [
        "tf.set_random_seed(0)\n",
        "\n",
        "x=tf.placeholder(tf.float32,[None,784]) #imagen del numero descompuesta a un vector\n",
        "y=tf.placeholder(tf.float32,[None,10]) # Matriz con las etiquetas REALES del set de datos\n",
        "\n",
        "W=tf.Variable(tf.zeros([784,10])) #Matriz de pesos, 784 para recibir la imagen, 10 por las posible salidas\n",
        "b=tf.Variable(tf.zeros([10])) #Vector con bias\n",
        "\n",
        "#salida=tf.matmul(x,W)+b #La operacion que se hara en los nodos que reciben entradas\n",
        "salida= tf.nn.softmax(tf.matmul(x,W)+b)# 92%\n",
        "\n",
        "#loss = tf.reduce_mean(tf.nn.softmax_cross_entropy_with_logits_v2(labels=y, logits=salida))# función de pérdida (loss)\n",
        "#loss = -tf.reduce_sum(y * tf.log(salida))# 92%\n",
        "loss = -tf.reduce_mean(y * tf.log(salida)) * 1000.0 #92%\n",
        "\n",
        "train_step = tf.train.GradientDescentOptimizer(0.003).minimize(loss)# pasos de entrenamiento\n",
        "\n",
        "# calcular el aprendizaje \n",
        "prediccion_correcta = tf.equal(tf.argmax(salida, 1), tf.argmax(y, 1))\n",
        "aprendizaje = tf.reduce_mean(tf.cast(prediccion_correcta, tf.float32))\n",
        "\n",
        "prediccion = tf.argmax(salida,1)"
      ],
      "execution_count": 0,
      "outputs": []
    },
    {
      "metadata": {
        "id": "twsFkT4SbB5U",
        "colab_type": "code",
        "colab": {
          "base_uri": "https://localhost:8080/",
          "height": 1166
        },
        "outputId": "b782c822-5890-49de-d663-25c661448d0c"
      },
      "cell_type": "code",
      "source": [
        "init=tf.global_variables_initializer()\n",
        "\n",
        "def suerte(imagen):\n",
        "    predi  = sess.run(prediccion,feed_dict={x: mnist.test.images[imagen].reshape(1,784)})\n",
        "    print(\"La imagen es: {:}\".format (predi))\n",
        "    #plt.imshow(mnist.test.images[imagen].reshape((28,28)), cmap=\"gray\")\n",
        "    #plt.axis('off')\n",
        "    ver_imagen(imagen)\n",
        "\n",
        "with tf.Session() as sess:\n",
        "    sess.run(init)\n",
        "    for i in range(5000):\n",
        "      # trabajando con lotes (batch)\n",
        "      input_batch, labels_batch = mnist.train.next_batch(100)\n",
        "      feed_dict = {x: input_batch, y: labels_batch}\n",
        "\n",
        "      # corro el entrenamiento\n",
        "      train_step.run(feed_dict=feed_dict)\n",
        "      # imprimo el aprendizaje cada 100 pasos\n",
        "      if i%100 == 0:\n",
        "        train_accuracy = aprendizaje.eval(feed_dict=feed_dict)\n",
        "        print(\"Paso %d, Exactitud de aprendizaje en el lote: %g %%\"%(i, train_accuracy*100))\n",
        "    # evaluación de grupo de test\n",
        "    test_accuracy = aprendizaje.eval(feed_dict={x: mnist.test.images, y: mnist.test.labels})\n",
        "    print(\"---------------------------------------------------\")\n",
        "    print(\"Exactitud de aprendizaje en grupo de test : %g %%\"%(test_accuracy*100))\n",
        "    # hoy tendré suerte\n",
        "    suerte(524)"
      ],
      "execution_count": 86,
      "outputs": [
        {
          "output_type": "stream",
          "text": [
            "Paso 0, Exactitud de aprendizaje en el lote: 38 %\n",
            "Paso 100, Exactitud de aprendizaje en el lote: 87 %\n",
            "Paso 200, Exactitud de aprendizaje en el lote: 88 %\n",
            "Paso 300, Exactitud de aprendizaje en el lote: 89 %\n",
            "Paso 400, Exactitud de aprendizaje en el lote: 89 %\n",
            "Paso 500, Exactitud de aprendizaje en el lote: 94 %\n",
            "Paso 600, Exactitud de aprendizaje en el lote: 96 %\n",
            "Paso 700, Exactitud de aprendizaje en el lote: 94 %\n",
            "Paso 800, Exactitud de aprendizaje en el lote: 89 %\n",
            "Paso 900, Exactitud de aprendizaje en el lote: 96 %\n",
            "Paso 1000, Exactitud de aprendizaje en el lote: 91 %\n",
            "Paso 1100, Exactitud de aprendizaje en el lote: 90 %\n",
            "Paso 1200, Exactitud de aprendizaje en el lote: 93 %\n",
            "Paso 1300, Exactitud de aprendizaje en el lote: 87 %\n",
            "Paso 1400, Exactitud de aprendizaje en el lote: 92 %\n",
            "Paso 1500, Exactitud de aprendizaje en el lote: 95 %\n",
            "Paso 1600, Exactitud de aprendizaje en el lote: 94 %\n",
            "Paso 1700, Exactitud de aprendizaje en el lote: 90 %\n",
            "Paso 1800, Exactitud de aprendizaje en el lote: 95 %\n",
            "Paso 1900, Exactitud de aprendizaje en el lote: 96 %\n",
            "Paso 2000, Exactitud de aprendizaje en el lote: 90 %\n",
            "Paso 2100, Exactitud de aprendizaje en el lote: 93 %\n",
            "Paso 2200, Exactitud de aprendizaje en el lote: 95 %\n",
            "Paso 2300, Exactitud de aprendizaje en el lote: 92 %\n",
            "Paso 2400, Exactitud de aprendizaje en el lote: 87 %\n",
            "Paso 2500, Exactitud de aprendizaje en el lote: 94 %\n",
            "Paso 2600, Exactitud de aprendizaje en el lote: 96 %\n",
            "Paso 2700, Exactitud de aprendizaje en el lote: 88 %\n",
            "Paso 2800, Exactitud de aprendizaje en el lote: 97 %\n",
            "Paso 2900, Exactitud de aprendizaje en el lote: 92 %\n",
            "Paso 3000, Exactitud de aprendizaje en el lote: 91 %\n",
            "Paso 3100, Exactitud de aprendizaje en el lote: 93 %\n",
            "Paso 3200, Exactitud de aprendizaje en el lote: 93 %\n",
            "Paso 3300, Exactitud de aprendizaje en el lote: 92 %\n",
            "Paso 3400, Exactitud de aprendizaje en el lote: 95 %\n",
            "Paso 3500, Exactitud de aprendizaje en el lote: 97 %\n",
            "Paso 3600, Exactitud de aprendizaje en el lote: 89 %\n",
            "Paso 3700, Exactitud de aprendizaje en el lote: 95 %\n",
            "Paso 3800, Exactitud de aprendizaje en el lote: 97 %\n",
            "Paso 3900, Exactitud de aprendizaje en el lote: 88 %\n",
            "Paso 4000, Exactitud de aprendizaje en el lote: 97 %\n",
            "Paso 4100, Exactitud de aprendizaje en el lote: 93 %\n",
            "Paso 4200, Exactitud de aprendizaje en el lote: 94 %\n",
            "Paso 4300, Exactitud de aprendizaje en el lote: 96 %\n",
            "Paso 4400, Exactitud de aprendizaje en el lote: 96 %\n",
            "Paso 4500, Exactitud de aprendizaje en el lote: 92 %\n",
            "Paso 4600, Exactitud de aprendizaje en el lote: 97 %\n",
            "Paso 4700, Exactitud de aprendizaje en el lote: 91 %\n",
            "Paso 4800, Exactitud de aprendizaje en el lote: 97 %\n",
            "Paso 4900, Exactitud de aprendizaje en el lote: 91 %\n",
            "---------------------------------------------------\n",
            "Exactitud de aprendizaje en grupo de test : 92.43 %\n",
            "La imagen es: [3]\n"
          ],
          "name": "stdout"
        },
        {
          "output_type": "display_data",
          "data": {
            "image/png": "[encoded data removed]",
            "text/plain": [
              "<matplotlib.figure.Figure at 0x7fd55347a3c8>"
            ]
          },
          "metadata": {
            "tags": []
          }
        }
      ]
    }
  ]
}