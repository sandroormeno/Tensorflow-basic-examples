{
 "cells": [
  {
   "cell_type": "code",
   "execution_count": 1,
   "metadata": {},
   "outputs": [
    {
     "name": "stdout",
     "output_type": "stream",
     "text": [
      "TensorFlow version: 1.8.0\n",
      "Eager execution: True\n"
     ]
    }
   ],
   "source": [
    "from __future__ import absolute_import, division, print_function, unicode_literals\n",
    "\n",
    "import os\n",
    "import matplotlib.pyplot as plt\n",
    "\n",
    "import tensorflow as tf\n",
    "\n",
    "tf.enable_eager_execution()\n",
    "\n",
    "print(\"TensorFlow version: {}\".format(tf.__version__))\n",
    "print(\"Eager execution: {}\".format(tf.executing_eagerly()))"
   ]
  },
  {
   "cell_type": "code",
   "execution_count": 4,
   "metadata": {},
   "outputs": [],
   "source": [
    "train_dataset_fp = tf.keras.utils.get_file(fname= os.path.basename(\"iris_training.csv\") ,\n",
    "                                           origin=\"iris_training.csv\")"
   ]
  },
  {
   "cell_type": "code",
   "execution_count": 5,
   "metadata": {},
   "outputs": [
    {
     "name": "stdout",
     "output_type": "stream",
     "text": [
      "Local copy of the dataset file: /home/ubuntu/.keras/datasets/iris_training.csv\n"
     ]
    }
   ],
   "source": [
    "print(\"Local copy of the dataset file: {}\".format(train_dataset_fp))"
   ]
  },
  {
   "cell_type": "code",
   "execution_count": 6,
   "metadata": {},
   "outputs": [
    {
     "name": "stdout",
     "output_type": "stream",
     "text": [
      "120,4,setosa,versicolor,virginica\r\n",
      "6.4,2.8,5.6,2.2,2\r\n",
      "5.0,2.3,3.3,1.0,1\r\n",
      "4.9,2.5,4.5,1.7,2\r\n",
      "4.9,3.1,1.5,0.1,0\r\n"
     ]
    }
   ],
   "source": [
    "!head -n5 {train_dataset_fp}"
   ]
  },
  {
   "cell_type": "code",
   "execution_count": 17,
   "metadata": {},
   "outputs": [],
   "source": [
    "batch_size = 32\n",
    "\n",
    "train_dataset = tf.data.experimental.make_csv_dataset(\n",
    "    train_dataset_fp,\n",
    "    batch_size, \n",
    "    column_names=['sepal_length', 'sepal_width', 'petal_length', 'petal_width', 'species'],\n",
    "    label_name='species',\n",
    "    num_epochs=1)"
   ]
  },
  {
   "cell_type": "code",
   "execution_count": 18,
   "metadata": {},
   "outputs": [],
   "source": [
    "features, labels = next(iter(train_dataset))"
   ]
  },
  {
   "cell_type": "code",
   "execution_count": 35,
   "metadata": {},
   "outputs": [
    {
     "data": {
      "text/plain": [
       "{'petal_length': <tf.Tensor: id=294, shape=(32,), dtype=float32, numpy=\n",
       " array([1.5, 5. , 5.8, 5.4, 5.3, 1.5, 5. , 1.4, 5.5, 4.8, 1.6, 1.5, 4.7,\n",
       "        1.7, 1.3, 4.5, 4.7, 1.2, 4.6, 4.9, 1. , 5.6, 6.4, 1.4, 3.3, 1.6,\n",
       "        4.5, 6.3, 5.1, 1.3, 1.6, 3. ], dtype=float32)>,\n",
       " 'petal_width': <tf.Tensor: id=295, shape=(32,), dtype=float32, numpy=\n",
       " array([0.3, 1.7, 1.6, 2.3, 2.3, 0.1, 1.9, 0.3, 1.8, 1.4, 0.6, 0.1, 1.4,\n",
       "        0.3, 0.4, 1.5, 1.6, 0.2, 1.5, 1.8, 0.2, 2.1, 2. , 0.2, 1. , 0.2,\n",
       "        1.3, 1.8, 1.8, 0.2, 0.2, 1.1], dtype=float32)>,\n",
       " 'sepal_length': <tf.Tensor: id=296, shape=(32,), dtype=float32, numpy=\n",
       " array([5.1, 6.7, 7.2, 6.2, 6.4, 4.9, 6.3, 4.8, 6.5, 6.8, 5. , 4.9, 6.1,\n",
       "        5.7, 5.4, 6.2, 6.3, 5.8, 6.5, 6.3, 4.6, 6.4, 7.9, 4.4, 5. , 4.8,\n",
       "        5.7, 7.3, 5.9, 4.4, 4.7, 5.1], dtype=float32)>,\n",
       " 'sepal_width': <tf.Tensor: id=297, shape=(32,), dtype=float32, numpy=\n",
       " array([3.8, 3. , 3. , 3.4, 3.2, 3.1, 2.5, 3. , 3. , 2.8, 3.5, 3.1, 2.9,\n",
       "        3.8, 3.9, 2.2, 3.3, 4. , 2.8, 2.7, 3.6, 2.8, 3.8, 2.9, 2.3, 3.1,\n",
       "        2.8, 2.9, 3. , 3.2, 3.2, 2.5], dtype=float32)>}"
      ]
     },
     "execution_count": 35,
     "metadata": {},
     "output_type": "execute_result"
    }
   ],
   "source": [
    "features"
   ]
  },
  {
   "cell_type": "code",
   "execution_count": 25,
   "metadata": {},
   "outputs": [
    {
     "data": {
      "text/plain": [
       "array([4.5, 4.4, 5.6, 3.8, 1.5, 1.3, 4.5, 1.9, 5.1, 4.1, 1.2, 3.9, 1.6,\n",
       "       1.3, 4.9, 4.5, 5.3, 5.1, 5.6, 6.1, 3.3, 1.6, 1.4, 1.3, 5.1, 1.5,\n",
       "       5.5, 5.8, 5.2, 5.6, 1.7, 1.4], dtype=float32)"
      ]
     },
     "execution_count": 25,
     "metadata": {},
     "output_type": "execute_result"
    }
   ],
   "source": [
    "features['petal_length'].numpy()"
   ]
  },
  {
   "cell_type": "code",
   "execution_count": 29,
   "metadata": {},
   "outputs": [
    {
     "data": {
      "text/plain": [
       "array([2, 1, 2, 1, 0, 0, 1, 0, 2, 1, 0, 1, 0, 0, 2, 1, 2, 2, 2, 2, 1, 0,\n",
       "       0, 0, 2, 0, 2, 2, 2, 2, 0, 0], dtype=int32)"
      ]
     },
     "execution_count": 29,
     "metadata": {},
     "output_type": "execute_result"
    }
   ],
   "source": [
    "labels.numpy()"
   ]
  },
  {
   "cell_type": "code",
   "execution_count": 34,
   "metadata": {},
   "outputs": [
    {
     "data": {
      "image/png": "[encoded data removed]",
      "text/plain": [
       "<Figure size 432x288 with 1 Axes>"
      ]
     },
     "metadata": {
      "needs_background": "light"
     },
     "output_type": "display_data"
    }
   ],
   "source": [
    "features, labels = next(iter(train_dataset)) # cada llamada ala función de devuelve un grupo nuevo de valores\n",
    "plt.scatter(features['petal_length'].numpy(),\n",
    "            features['sepal_length'].numpy(),\n",
    "            c=labels.numpy(),\n",
    "            cmap='viridis')\n",
    "\n",
    "plt.xlabel(\"Petal length\")\n",
    "plt.ylabel(\"Sepal length\");"
   ]
  },
  {
   "cell_type": "code",
   "execution_count": 36,
   "metadata": {},
   "outputs": [],
   "source": [
    "# etapa de convversión en tensores\n",
    "def pack_features_vector(features, labels):\n",
    "  \"\"\"Pack the features into a single array.\"\"\"\n",
    "  features = tf.stack(list(features.values()), axis=1)\n",
    "  return features, labels"
   ]
  },
  {
   "cell_type": "code",
   "execution_count": 37,
   "metadata": {},
   "outputs": [],
   "source": [
    "train_dataset = train_dataset.map(pack_features_vector)"
   ]
  },
  {
   "cell_type": "code",
   "execution_count": 39,
   "metadata": {},
   "outputs": [],
   "source": [
    "features, labels = next(iter(train_dataset))"
   ]
  },
  {
   "cell_type": "code",
   "execution_count": 54,
   "metadata": {},
   "outputs": [
    {
     "name": "stdout",
     "output_type": "stream",
     "text": [
      "Como tensor: \n",
      " tf.Tensor(\n",
      "[[1.  2.4 4.9 3.3]\n",
      " [2.  3.8 7.9 6.4]\n",
      " [0.2 3.6 4.6 1. ]\n",
      " [1.  2.7 5.8 4.1]\n",
      " [0.2 3.2 4.6 1.4]], shape=(5, 4), dtype=float32)\n",
      "y como arreglo: \n",
      " [[1.  2.4 4.9 3.3]\n",
      " [2.  3.8 7.9 6.4]\n",
      " [0.2 3.6 4.6 1. ]\n",
      " [1.  2.7 5.8 4.1]\n",
      " [0.2 3.2 4.6 1.4]]\n"
     ]
    }
   ],
   "source": [
    "# estas son las caracteristicas en tensores\n",
    "print(\"Como tensor: \\n\",features[:5])\n",
    "print(\"y como arreglo: \\n\", features[:5].numpy())"
   ]
  },
  {
   "cell_type": "code",
   "execution_count": 55,
   "metadata": {},
   "outputs": [
    {
     "data": {
      "text/plain": [
       "<tf.Tensor: id=406, shape=(5,), dtype=int32, numpy=array([1, 2, 0, 1, 0], dtype=int32)>"
      ]
     },
     "execution_count": 55,
     "metadata": {},
     "output_type": "execute_result"
    }
   ],
   "source": [
    "# estas son las etiquetas en tensores\n",
    "labels[:5]"
   ]
  },
  {
   "cell_type": "code",
   "execution_count": 56,
   "metadata": {},
   "outputs": [],
   "source": [
    "# el modelo\n",
    "\n",
    "model = tf.keras.Sequential([\n",
    "  tf.keras.layers.Dense(12, activation=tf.nn.relu, input_shape=(4,)),  # input shape required, num of features  \n",
    "  tf.keras.layers.Dense(12, activation=tf.nn.relu),\n",
    "  tf.keras.layers.Dense(3) # num of labels\n",
    "])"
   ]
  },
  {
   "cell_type": "code",
   "execution_count": 57,
   "metadata": {},
   "outputs": [
    {
     "data": {
      "text/plain": [
       "<tf.Tensor: id=495, shape=(5, 3), dtype=float32, numpy=\n",
       "array([[ 2.489653  ,  1.1927984 , -0.74202025],\n",
       "       [ 4.0379963 ,  2.159785  , -1.2715418 ],\n",
       "       [ 2.1274235 ,  1.1109865 , -0.55710804],\n",
       "       [ 2.979609  ,  1.4368594 , -0.8849884 ],\n",
       "       [ 2.2098846 ,  1.0265758 , -0.5459739 ]], dtype=float32)>"
      ]
     },
     "execution_count": 57,
     "metadata": {},
     "output_type": "execute_result"
    }
   ],
   "source": [
    "# una prueba del modelo\n",
    "\n",
    "predictions = model(features)\n",
    "predictions[:5]"
   ]
  },
  {
   "cell_type": "markdown",
   "metadata": {},
   "source": [
    "Nos devuelve un LOGIT : Vector de predicciones sin procesar (no normalizadas) que genera un modelo de clasificación, que \n",
    "comúnmente se pasa a una función de normalización (activación).\n",
    "Para convertir estos vectores en probabilidades hay que someterlos a una función de activación (softmax)"
   ]
  },
  {
   "cell_type": "code",
   "execution_count": 60,
   "metadata": {},
   "outputs": [
    {
     "data": {
      "text/plain": [
       "<tf.Tensor: id=513, shape=(5, 3), dtype=float32, numpy=\n",
       "array([[0.7616832 , 0.20823683, 0.03007991],\n",
       "       [0.86370146, 0.13202825, 0.00427032],\n",
       "       [0.6992346 , 0.25304043, 0.04772497],\n",
       "       [0.80987144, 0.1731444 , 0.01698411],\n",
       "       [0.7300239 , 0.22357981, 0.04639626]], dtype=float32)>"
      ]
     },
     "execution_count": 60,
     "metadata": {},
     "output_type": "execute_result"
    }
   ],
   "source": [
    "tf.nn.softmax(predictions[:5])"
   ]
  },
  {
   "cell_type": "code",
   "execution_count": 62,
   "metadata": {},
   "outputs": [
    {
     "data": {
      "text/plain": [
       "array([[0.7616832 , 0.20823683, 0.03007991]], dtype=float32)"
      ]
     },
     "execution_count": 62,
     "metadata": {},
     "output_type": "execute_result"
    }
   ],
   "source": [
    "# este es el resultadp para la pimera fila\n",
    "tf.nn.softmax(predictions[:1]).numpy()"
   ]
  },
  {
   "cell_type": "markdown",
   "metadata": {},
   "source": [
    "Claramente se pude ver que la primera categoría es la que tiene más probabilidades = 0.7616832. Con\n",
    "la función tf.argmax  se verá mucho mejor:"
   ]
  },
  {
   "cell_type": "code",
   "execution_count": 66,
   "metadata": {},
   "outputs": [
    {
     "name": "stdout",
     "output_type": "stream",
     "text": [
      "Prediction: [0 0 0 0 0 0 0 0 0 0 0 0 0 0 0 0 0 0 0 0 0 0 0 0 0 0 0 0 0 0 0 0]\n",
      "    Labels: [1 2 0 1 0 1 1 2 2 1 0 1 2 1 1 2 0 0 1 0 2 0 2 0 0 2 1 0 0 1 0 2]\n"
     ]
    }
   ],
   "source": [
    "print(\"Prediction: {}\".format(tf.argmax(predictions, axis=1)))\n",
    "print(\"    Labels: {}\".format(labels))"
   ]
  },
  {
   "cell_type": "markdown",
   "metadata": {},
   "source": [
    "Comparado con categorias reales, parece que no tenemos buenos resultados.... lo que ocurre es que aú no entrenamos nuestro modelo"
   ]
  },
  {
   "cell_type": "markdown",
   "metadata": {},
   "source": [
    "El entrenamiento es la etapa del aprendizaje automático dende el modelo se optimiza gradualmente, o el modelo aprende del dataset (conjunto de datos). El objetivo es aprender lo suficiente de la estructura del data set de entrenamiento para luego hacer predicciones sobre conjunto de nuevos datos. Si nuestro modelo aprende demasiado sobre el dataset de entrenamiento, entonces las predicciones solo funcionan para los datos que ha visto y no serán generalizables. Este problema se llama overfitting (sobreajuste), es muy parecido a memorizar las respuestas en lugar de entender cómo resolver un problema.\n",
    "\n",
    "El problema de clasificación de Iris es un ejemplo de aprendizaje automático supervisado: el modelo se entrena a partir de conjunto de datos que contiene las caraseristicas y las etiquetas. En el aprendizaje automático no supervisado, los ejemplos no contienen etiquetas. En su lugar, el modelo normalmente encuentra patrones entre las características.\n",
    "\n",
    "Definir la función de pérdida y gradiente de desenso.\n",
    "Tanto las etapas de entrenamiento como las de evaluación se deben calcular la tasa de pérdida del modelo. Esto mide la diferencia entre las predicción de un modelo y de la etiqueta deseada, en otras palabras, qué tan mal está trabajando el modelo. Queremos minimizar, u optimizar, este valor.\n",
    "\n",
    "Nuestro modelo calculará su pérdida utilizando la función \"tf.keras.losses.categorical_crossentropy\" que toma las predicciones de probabilidad de clase del modelo y la etiqueta deseada, y devuelve la pérdida promedio en todos los ejemplos."
   ]
  },
  {
   "cell_type": "code",
   "execution_count": 67,
   "metadata": {},
   "outputs": [
    {
     "name": "stdout",
     "output_type": "stream",
     "text": [
      "Loss test: 2.0853724479675293\n"
     ]
    }
   ],
   "source": [
    "def loss(model, x, y):\n",
    "  y_ = model(x)\n",
    "  return tf.losses.sparse_softmax_cross_entropy(labels=y, logits=y_)\n",
    "\n",
    "\n",
    "l = loss(model, features, labels)\n",
    "print(\"Loss test: {}\".format(l))"
   ]
  },
  {
   "cell_type": "markdown",
   "metadata": {},
   "source": [
    "Utilizaremos \"tf.GradientTape\" para calcular los gradientes Y optimizar nuestro modelo."
   ]
  },
  {
   "cell_type": "code",
   "execution_count": 68,
   "metadata": {},
   "outputs": [],
   "source": [
    "def grad(model, inputs, targets):\n",
    "  with tf.GradientTape() as tape:\n",
    "    loss_value = loss(model, inputs, targets)\n",
    "  return loss_value, tape.gradient(loss_value, model.trainable_variables)"
   ]
  },
  {
   "cell_type": "markdown",
   "metadata": {},
   "source": [
    "Crear un optimizador\n",
    "\n",
    "Un optimizador aplica los gradientes calculados a las variables del modelo para minimizar la función de pérdida. Puede pensar en la función de pérdida como una superficie curva (consulte la Figura 3) y queremos encontrar su punto más bajo caminando. Los gradientes apuntan en la dirección del ascenso más empinado, por lo que viajaremos en sentido contrario y seguiremos subiendo la cuesta. Al calcular de forma iterativa la pérdida y el gradiente de cada lote, ajustaremos el modelo durante el entrenamiento. Gradualmente, el modelo encontrará la mejor combinación de pesos y sesgos para minimizar la pérdida. Y cuanto más baja sea la pérdida, mejores serán las predicciones del modelo."
   ]
  },
  {
   "cell_type": "markdown",
   "metadata": {},
   "source": [
    " Este modelo utiliza el tf.train.GradientDescentOptimizer que implementa el algoritmo de descenso de gradiente estocástico (SGD). La tasa de aprendizaje establece el tamaño de paso que se debe tomar para cada iteración cuesta abajo. Este es un hiperparámetro que comúnmente se ajustará para lograr mejores resultados."
   ]
  },
  {
   "cell_type": "code",
   "execution_count": 72,
   "metadata": {},
   "outputs": [],
   "source": [
    "optimizer = tf.train.GradientDescentOptimizer(learning_rate=0.01)\n",
    "\n",
    "global_step = tf.contrib.eager.Variable(0)"
   ]
  },
  {
   "cell_type": "code",
   "execution_count": 73,
   "metadata": {},
   "outputs": [
    {
     "name": "stdout",
     "output_type": "stream",
     "text": [
      "Step: 0, Initial Loss: 2.0853724479675293\n",
      "Step: 1,         Loss: 1.5453872680664062\n"
     ]
    }
   ],
   "source": [
    "loss_value, grads = grad(model, features, labels)\n",
    "\n",
    "print(\"Step: {}, Initial Loss: {}\".format(global_step.numpy(),\n",
    "                                          loss_value.numpy()))\n",
    "\n",
    "optimizer.apply_gradients(zip(grads, model.trainable_variables), global_step)\n",
    "\n",
    "print(\"Step: {},         Loss: {}\".format(global_step.numpy(),\n",
    "                                          loss(model, features, labels).numpy()))"
   ]
  },
  {
   "cell_type": "markdown",
   "metadata": {},
   "source": [
    "Ciclos de entrenamiento:\n",
    "\n",
    "¡Con todas las piezas en su lugar, el modelo está listo para el entrenamiento! Un ciclo de entrenamiento alimenta los ejemplos de conjuntos de datos en el modelo para ayudarlo a hacer mejores predicciones. El siguiente bloque de código configura estos pasos de entrenamiento:\n",
    "\n",
    "Iterar cada época. Una época es un paso por el conjunto de datos.\n",
    "Dentro de una época, repita cada ejemplo en el conjunto de datos de entrenamiento, capturando sus características (x) y etiqueta (y).\n",
    "Usando las características del ejemplo, haga una predicción y compárela con la etiqueta. Mida la inexactitud de la predicción y úselo para calcular la pérdida y los gradientes del modelo.\n",
    "Use un optimizador para actualizar las variables del modelo.\n",
    "Mantenga un registro de algunas estadísticas para la visualización.\n",
    "Repita para cada época.\n",
    "La variable num_epochs es el número de veces que se recorre la colección del conjunto de datos. Contraintuitivamente, entrenar un modelo por más tiempo no garantiza un mejor modelo. num_epochs es un hiperparámetro que puede sintonizar. Elegir el número correcto generalmente requiere experiencia y experimentación."
   ]
  },
  {
   "cell_type": "code",
   "execution_count": 74,
   "metadata": {},
   "outputs": [
    {
     "name": "stdout",
     "output_type": "stream",
     "text": [
      "Epoch 000: Loss: 1.311, Accuracy: 50.000%\n",
      "Epoch 050: Loss: 0.330, Accuracy: 93.333%\n",
      "Epoch 100: Loss: 0.225, Accuracy: 96.667%\n",
      "Epoch 150: Loss: 0.150, Accuracy: 96.667%\n",
      "Epoch 200: Loss: 0.143, Accuracy: 97.500%\n"
     ]
    }
   ],
   "source": [
    "## Note: Rerunning this cell uses the same model variables\n",
    "\n",
    "from tensorflow import contrib\n",
    "tfe = contrib.eager\n",
    "\n",
    "# keep results for plotting\n",
    "train_loss_results = []\n",
    "train_accuracy_results = []\n",
    "\n",
    "num_epochs = 201\n",
    "\n",
    "for epoch in range(num_epochs):\n",
    "  epoch_loss_avg = tfe.metrics.Mean()\n",
    "  epoch_accuracy = tfe.metrics.Accuracy()\n",
    "\n",
    "  # Training loop - using batches of 32\n",
    "  for x, y in train_dataset:\n",
    "    # Optimize the model\n",
    "    loss_value, grads = grad(model, x, y)\n",
    "    optimizer.apply_gradients(zip(grads, model.trainable_variables),\n",
    "                              global_step)\n",
    "\n",
    "    # Track progress\n",
    "    epoch_loss_avg(loss_value)  # add current batch loss\n",
    "    # compare predicted label to actual label\n",
    "    epoch_accuracy(tf.argmax(model(x), axis=1, output_type=tf.int32), y)\n",
    "\n",
    "  # end epoch\n",
    "  train_loss_results.append(epoch_loss_avg.result())\n",
    "  train_accuracy_results.append(epoch_accuracy.result())\n",
    "  \n",
    "  if epoch % 50 == 0:\n",
    "    print(\"Epoch {:03d}: Loss: {:.3f}, Accuracy: {:.3%}\".format(epoch,\n",
    "                                                                epoch_loss_avg.result(),\n",
    "                                                                epoch_accuracy.result()))"
   ]
  },
  {
   "cell_type": "code",
   "execution_count": null,
   "metadata": {},
   "outputs": [],
   "source": [
    "# continuar : https://www.tensorflow.org/tutorials/eager/custom_training_walkthrough"
   ]
  }
 ],
 "metadata": {
  "kernelspec": {
   "display_name": "Python 3",
   "language": "python",
   "name": "python3"
  },
  "language_info": {
   "codemirror_mode": {
    "name": "ipython",
    "version": 3
   },
   "file_extension": ".py",
   "mimetype": "text/x-python",
   "name": "python",
   "nbconvert_exporter": "python",
   "pygments_lexer": "ipython3",
   "version": "3.5.6"
  }
 },
 "nbformat": 4,
 "nbformat_minor": 2
}
